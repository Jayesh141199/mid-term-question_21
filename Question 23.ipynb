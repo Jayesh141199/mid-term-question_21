{
  "metadata": {
    "kernelspec": {
      "name": "python",
      "display_name": "Python (Pyodide)",
      "language": "python"
    },
    "language_info": {
      "codemirror_mode": {
        "name": "python",
        "version": 3
      },
      "file_extension": ".py",
      "mimetype": "text/x-python",
      "name": "python",
      "nbconvert_exporter": "python",
      "pygments_lexer": "ipython3",
      "version": "3.8"
    }
  },
  "nbformat_minor": 4,
  "nbformat": 4,
  "cells": [
    {
      "cell_type": "code",
      "source": "def tough(indentation, pattern):\n    if pattern == 0:\n        return\n    elif pattern == 1:\n        print(\" \" * indentation + \"*\")\n    else:\n        print(\" \" * indentation + \"*\")\n        tough(indentation + 1, pattern - 1)\n        print(\" \" * (indentation - 1) + \"*\" * pattern)\n\n# Test cases\ntough(0, 0)\ntough(0, 1)\ntough(0, 2)\ntough(0, 4)\n",
      "metadata": {
        "trusted": true
      },
      "outputs": [
        {
          "name": "stdout",
          "text": "*\n*\n *\n**\n*\n *\n  *\n   *\n **\n***\n****\n",
          "output_type": "stream"
        }
      ],
      "execution_count": 2
    },
    {
      "cell_type": "code",
      "source": "",
      "metadata": {
        "trusted": true
      },
      "outputs": [],
      "execution_count": null
    }
  ]
}